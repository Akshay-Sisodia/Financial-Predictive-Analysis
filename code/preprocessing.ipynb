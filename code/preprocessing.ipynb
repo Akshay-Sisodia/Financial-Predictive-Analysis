{
 "cells": [
  {
   "cell_type": "code",
   "execution_count": 1,
   "metadata": {},
   "outputs": [],
   "source": [
    "import pandas as pd\n",
    "\n",
    "# Importing the dataset\n",
    "df = pd.read_csv(\"./../data/INFY.csv\")\n",
    "df['Volume'] = df['Volume'].astype('float64')\n",
    "\n",
    "# Converting the date to datetime datatype\n",
    "df['Date'] = pd.to_datetime(df['Date'])"
   ]
  },
  {
   "cell_type": "code",
   "execution_count": 2,
   "metadata": {},
   "outputs": [],
   "source": [
    "\n",
    "# Generating technical indicators for the data\n",
    "df['SMA_10'] = df['Close'].rolling(window=10).mean()\n",
    "df['SMA_50'] = df['Close'].rolling(window=50).mean()\n",
    "df['EMA_10'] = df['Close'].ewm(span=10, adjust=False).mean()\n",
    "df['EMA_50'] = df['Close'].ewm(span=50, adjust=False).mean()\n",
    "\n",
    "# Define the period for RSI calculation (e.g., 14 days)\n",
    "period = 14\n",
    "\n",
    "# Calculate daily price changes\n",
    "delta = df['Close'].diff()\n",
    "\n",
    "# Calculate gains and losses\n",
    "gains = delta.where(delta > 0, 0)\n",
    "losses = -delta.where(delta < 0, 0)\n",
    "\n",
    "# Calculate average gains and losses over the specified period\n",
    "average_gain = gains.rolling(window=period).mean()\n",
    "average_loss = losses.rolling(window=period).mean()\n",
    "\n",
    "# Calculate RSI\n",
    "rs = average_gain / average_loss\n",
    "rsi = 100 - (100 / (1 + rs))\n",
    "\n",
    "# Add RSI to the DataFrame\n",
    "df['RSI'] = rsi\n",
    "\n",
    "# Calculate the short-term EMA (e.g., 12-day EMA)\n",
    "short_ema = df['Close'].ewm(span=12, adjust=False).mean()\n",
    "\n",
    "# Calculate the long-term EMA (e.g., 26-day EMA)\n",
    "long_ema = df['Close'].ewm(span=26, adjust=False).mean()\n",
    "\n",
    "# Calculate MACD line\n",
    "macd_line = short_ema - long_ema\n",
    "\n",
    "# Calculate the signal line (e.g., 9-day EMA of the MACD line)\n",
    "signal_line = macd_line.ewm(span=9, adjust=False).mean()\n",
    "\n",
    "# Add MACD and signal line to the DataFrame\n",
    "df['MACD'] = macd_line\n",
    "df['Signal_Line'] = signal_line"
   ]
  },
  {
   "cell_type": "code",
   "execution_count": 3,
   "metadata": {},
   "outputs": [],
   "source": [
    "# Define the number of days ahead you want to predict (e.g., 1 day)\n",
    "days_ahead = 1\n",
    "\n",
    "# Create a new column 'Target_Close' with the closing price shifted by 'days_ahead'\n",
    "df['Target_Close'] = df['Close'].shift(-days_ahead)\n",
    "\n",
    "# Drop rows with NaN values (last rows with no future data)\n",
    "df.dropna(subset=['Target_Close'], inplace=True)\n",
    "\n",
    "# Create a new column 'Price_Direction' with 1 for an increase and 0 for a decrease or no change\n",
    "df['Price_Direction'] = (df['Close'] - df['Close'].shift(1)) > 0\n",
    "df['Price_Direction'] = df['Price_Direction'].astype(int)"
   ]
  },
  {
   "cell_type": "code",
   "execution_count": 4,
   "metadata": {},
   "outputs": [],
   "source": [
    "# Drop the first row (NaN due to shifting)\n",
    "df = df.iloc[1:]\n",
    "\n",
    "# Drop the NaN and Date values\n",
    "df.dropna(inplace=True)\n",
    "df=df.drop(columns='Date')\n",
    "\n",
    "# Save the preprocessed DataFrame to a CSV file if needed\n",
    "df.to_csv(\"./../data/preprocessed_data.csv\", index=False)"
   ]
  }
 ],
 "metadata": {
  "kernelspec": {
   "display_name": "Python 3",
   "language": "python",
   "name": "python3"
  },
  "language_info": {
   "codemirror_mode": {
    "name": "ipython",
    "version": 3
   },
   "file_extension": ".py",
   "mimetype": "text/x-python",
   "name": "python",
   "nbconvert_exporter": "python",
   "pygments_lexer": "ipython3",
   "version": "3.11.4"
  },
  "orig_nbformat": 4
 },
 "nbformat": 4,
 "nbformat_minor": 2
}
